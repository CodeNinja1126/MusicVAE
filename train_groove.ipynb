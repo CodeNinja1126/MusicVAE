{
  "nbformat": 4,
  "nbformat_minor": 0,
  "metadata": {
    "colab": {
      "name": "train_groove.ipynb",
      "provenance": [],
      "collapsed_sections": []
    },
    "kernelspec": {
      "name": "python3",
      "display_name": "Python 3"
    },
    "language_info": {
      "name": "python"
    },
    "accelerator": "GPU",
    "gpuClass": "standard"
  },
  "cells": [
    {
      "cell_type": "markdown",
      "source": [
        "# 환경 셋업"
      ],
      "metadata": {
        "id": "tFr5CdiCd-sk"
      }
    },
    {
      "cell_type": "code",
      "source": [
        "print('Installing dependencies...')\n",
        "!apt-get update -qq && apt-get install -qq libfluidsynth1 fluid-soundfont-gm build-essential libasound2-dev libjack-dev\n",
        "!pip install -q pyfluidsynth\n",
        "!pip install -qU magenta"
      ],
      "metadata": {
        "colab": {
          "base_uri": "https://localhost:8080/"
        },
        "id": "KWaFW_5igKog",
        "outputId": "ab6aafff-1afd-45d7-e74a-46ed940aa480"
      },
      "execution_count": 1,
      "outputs": [
        {
          "output_type": "stream",
          "name": "stdout",
          "text": [
            "Installing dependencies...\n"
          ]
        }
      ]
    },
    {
      "cell_type": "code",
      "source": [
        "import glob\n",
        "\n",
        "# Hack to allow python to pick up the newly-installed fluidsynth lib.\n",
        "# This is only needed for the hosted Colab environment.\n",
        "# 코랩환경을 위한 환경 설정, 새로 설치한 fluidsynth 라이브러리를 사용하기 위함.\n",
        "import ctypes.util\n",
        "orig_ctypes_util_find_library = ctypes.util.find_library\n",
        "def proxy_find_library(lib):\n",
        "  if lib == 'fluidsynth':\n",
        "    return 'libfluidsynth.so.1'\n",
        "  else:\n",
        "    return orig_ctypes_util_find_library(lib)\n",
        "ctypes.util.find_library = proxy_find_library\n",
        "\n",
        "print('Importing libraries...')\n",
        "from google.colab import files\n",
        "from magenta.models.music_vae import configs\n",
        "from magenta.models.music_vae import data,configs, music_vae_train\n",
        "from magenta.models.music_vae.trained_model import TrainedModel\n",
        "from magenta.models.music_vae import lstm_models\n",
        "from magenta.models.music_vae.base_model import MusicVAE\n",
        "from magenta.models.music_vae.configs import update_config\n",
        "\n",
        "import numpy as np\n",
        "import os\n",
        "import tensorflow.compat.v1 as tf\n",
        "import note_seq\n",
        "\n",
        "import tensorflow.python.util.deprecation as deprecation\n",
        "deprecation._PRINT_DEPRECATION_WARNINGS = False\n",
        "\n",
        "tf.disable_v2_behavior()\n",
        "\n",
        "# Necessary until pyfluidsynth is updated (>1.2.5).\n",
        "import warnings\n",
        "warnings.filterwarnings('ignore', category=DeprecationWarning)\n"
      ],
      "metadata": {
        "colab": {
          "base_uri": "https://localhost:8080/"
        },
        "id": "L7xOeXvg1wdw",
        "outputId": "aa0241bd-237d-49f3-ab6d-f130089c3be6"
      },
      "execution_count": 4,
      "outputs": [
        {
          "output_type": "stream",
          "name": "stdout",
          "text": [
            "Importing libraries...\n"
          ]
        }
      ]
    },
    {
      "cell_type": "markdown",
      "source": [
        "# 모델 학습하기"
      ],
      "metadata": {
        "id": "NILH01wimeA0"
      }
    },
    {
      "cell_type": "code",
      "source": [
        "def hierdec_4bar_model():\n",
        "  return MusicVAE(lstm_models.BidirectionalLstmEncoder(),\n",
        "                  lstm_models.HierarchicalLstmDecoder(\n",
        "                    lstm_models.GrooveLstmDecoder(),\n",
        "                    level_lengths=[4, 16],\n",
        "                    disable_autoregression=True)\n",
        "                  )\n",
        "\n",
        "groovae_4bar_config = configs.CONFIG_MAP['groovae_4bar']\n",
        "groovae_4bar_config = update_config(groovae_4bar_config, \n",
        "                                    {'model': hierdec_4bar_model()})\n"
      ],
      "metadata": {
        "id": "i1zManVEIFao"
      },
      "execution_count": 5,
      "outputs": []
    },
    {
      "cell_type": "code",
      "source": [
        "def dataset_fn():\n",
        "  return data.get_dataset(config=groovae_4bar_config,\n",
        "                          tf_file_reader=tf.data.TFRecordDataset,\n",
        "                          is_training=True)\n",
        "\n",
        "music_vae_train.train(train_dir='model/groovae_4bar/', \n",
        "                      config=groovae_4bar_config,\n",
        "                      dataset_fn=dataset_fn,\n",
        "                      checkpoints_to_keep=100,\n",
        "                      keep_checkpoint_every_n_hours=1,\n",
        "                      num_steps=2000,\n",
        "                      master='',\n",
        "                      num_sync_workers=0,\n",
        "                      num_ps_tasks=0,\n",
        "                      task=0)"
      ],
      "metadata": {
        "id": "lsyGOltnmiWy",
        "colab": {
          "base_uri": "https://localhost:8080/"
        },
        "outputId": "b1f169e6-5b3d-4ae2-9bb4-3ef195eae292"
      },
      "execution_count": 6,
      "outputs": [
        {
          "output_type": "stream",
          "name": "stderr",
          "text": [
            "WARNING:tensorflow:`tf.nn.rnn_cell.MultiRNNCell` is deprecated. This class is equivalent as `tf.keras.layers.StackedRNNCells`, and will be replaced by that in Tensorflow 2.0.\n",
            "WARNING:tensorflow:`tf.nn.rnn_cell.MultiRNNCell` is deprecated. This class is equivalent as `tf.keras.layers.StackedRNNCells`, and will be replaced by that in Tensorflow 2.0.\n",
            "WARNING:tensorflow:`tf.nn.rnn_cell.MultiRNNCell` is deprecated. This class is equivalent as `tf.keras.layers.StackedRNNCells`, and will be replaced by that in Tensorflow 2.0.\n",
            "WARNING:tensorflow:`tf.nn.rnn_cell.MultiRNNCell` is deprecated. This class is equivalent as `tf.keras.layers.StackedRNNCells`, and will be replaced by that in Tensorflow 2.0.\n",
            "/usr/local/lib/python3.7/dist-packages/magenta/contrib/rnn.py:750: UserWarning: `layer.add_variable` is deprecated and will be removed in a future version. Please use the `layer.add_weight()` method instead.\n",
            "  self._names[\"W\"], [input_size + self._num_units, self._num_units * 4])\n",
            "/usr/local/lib/python3.7/dist-packages/magenta/contrib/rnn.py:753: UserWarning: `layer.add_variable` is deprecated and will be removed in a future version. Please use the `layer.add_weight()` method instead.\n",
            "  initializer=tf.constant_initializer(0.0))\n",
            "/usr/local/lib/python3.7/dist-packages/magenta/models/music_vae/base_model.py:199: UserWarning: `tf.layers.dense` is deprecated and will be removed in a future version. Please use `tf.keras.layers.Dense` instead.\n",
            "  kernel_initializer=tf.random_normal_initializer(stddev=0.001))\n",
            "/usr/local/lib/python3.7/dist-packages/magenta/models/music_vae/base_model.py:205: UserWarning: `tf.layers.dense` is deprecated and will be removed in a future version. Please use `tf.keras.layers.Dense` instead.\n",
            "  kernel_initializer=tf.random_normal_initializer(stddev=0.001))\n",
            "/usr/local/lib/python3.7/dist-packages/magenta/models/music_vae/lstm_utils.py:99: UserWarning: `tf.layers.dense` is deprecated and will be removed in a future version. Please use `tf.keras.layers.Dense` instead.\n",
            "  name=name),\n"
          ]
        }
      ]
    },
    {
      "cell_type": "code",
      "source": [
        "def play(note_sequence):\n",
        "  note_seq.play_sequence(note_sequence, synth=note_seq.fluidsynth)\n",
        "  pass\n",
        "\n",
        "groovae_4bar_config = update_config(groovae_4bar_config, \n",
        "                                    {'model': hierdec_4bar_model()})\n",
        "drum_model = TrainedModel(groovae_4bar_config, batch_size=1, \n",
        "                          checkpoint_dir_or_path='model/groovae_4bar/model.ckpt-0')\n",
        "temperature = 0.5 #@param\n",
        "\n",
        "print('학습되지 않은 모델의 출력')\n",
        "n = 0\n",
        "while n < 4:\n",
        "  try:\n",
        "    drums_samples = drum_model.sample(n=1, length=64, temperature=temperature)\n",
        "    play(drums_samples[0])\n",
        "    n += 1\n",
        "  except:\n",
        "    pass\n",
        "drum_model = TrainedModel(groovae_4bar_config, batch_size=1, \n",
        "                          checkpoint_dir_or_path='model/groovae_4bar/model.ckpt-2000')\n",
        "\n",
        "print('학습된 모델의 출력')\n",
        "n = 0\n",
        "while n < 4:\n",
        "  try:\n",
        "    drums_samples = drum_model.sample(n=1, length=64, temperature=temperature)\n",
        "    play(drums_samples[0])\n",
        "    n += 1\n",
        "  except:\n",
        "    pass"
      ],
      "metadata": {
        "colab": {
          "base_uri": "https://localhost:8080/",
          "height": 686
        },
        "id": "jEGxQAGoDnEW",
        "outputId": "395f1396-2424-48d0-e429-e6cbf4896c63"
      },
      "execution_count": 9,
      "outputs": [
        {
          "output_type": "stream",
          "name": "stderr",
          "text": [
            "WARNING:tensorflow:`tf.nn.rnn_cell.MultiRNNCell` is deprecated. This class is equivalent as `tf.keras.layers.StackedRNNCells`, and will be replaced by that in Tensorflow 2.0.\n",
            "WARNING:tensorflow:`tf.nn.rnn_cell.MultiRNNCell` is deprecated. This class is equivalent as `tf.keras.layers.StackedRNNCells`, and will be replaced by that in Tensorflow 2.0.\n",
            "WARNING:tensorflow:`tf.nn.rnn_cell.MultiRNNCell` is deprecated. This class is equivalent as `tf.keras.layers.StackedRNNCells`, and will be replaced by that in Tensorflow 2.0.\n",
            "WARNING:tensorflow:`tf.nn.rnn_cell.MultiRNNCell` is deprecated. This class is equivalent as `tf.keras.layers.StackedRNNCells`, and will be replaced by that in Tensorflow 2.0.\n"
          ]
        },
        {
          "output_type": "stream",
          "name": "stdout",
          "text": [
            "학습되지 않은 모델의 출력\n"
          ]
        },
        {
          "output_type": "display_data",
          "data": {
            "text/plain": [
              "<IPython.core.display.HTML object>"
            ],
            "text/html": [
              "<div id=\"id_5\"> </div>"
            ]
          },
          "metadata": {}
        },
        {
          "output_type": "display_data",
          "data": {
            "text/plain": [
              "<IPython.core.display.HTML object>"
            ],
            "text/html": [
              "<div id=\"id_6\"> </div>"
            ]
          },
          "metadata": {}
        },
        {
          "output_type": "display_data",
          "data": {
            "text/plain": [
              "<IPython.core.display.HTML object>"
            ],
            "text/html": [
              "<div id=\"id_7\"> </div>"
            ]
          },
          "metadata": {}
        },
        {
          "output_type": "display_data",
          "data": {
            "text/plain": [
              "<IPython.core.display.HTML object>"
            ],
            "text/html": [
              "<div id=\"id_8\"> </div>"
            ]
          },
          "metadata": {}
        },
        {
          "output_type": "stream",
          "name": "stderr",
          "text": [
            "WARNING:tensorflow:`tf.nn.rnn_cell.MultiRNNCell` is deprecated. This class is equivalent as `tf.keras.layers.StackedRNNCells`, and will be replaced by that in Tensorflow 2.0.\n",
            "WARNING:tensorflow:`tf.nn.rnn_cell.MultiRNNCell` is deprecated. This class is equivalent as `tf.keras.layers.StackedRNNCells`, and will be replaced by that in Tensorflow 2.0.\n",
            "WARNING:tensorflow:`tf.nn.rnn_cell.MultiRNNCell` is deprecated. This class is equivalent as `tf.keras.layers.StackedRNNCells`, and will be replaced by that in Tensorflow 2.0.\n",
            "WARNING:tensorflow:`tf.nn.rnn_cell.MultiRNNCell` is deprecated. This class is equivalent as `tf.keras.layers.StackedRNNCells`, and will be replaced by that in Tensorflow 2.0.\n"
          ]
        },
        {
          "output_type": "stream",
          "name": "stdout",
          "text": [
            "학습된 모델의 출력\n"
          ]
        },
        {
          "output_type": "display_data",
          "data": {
            "text/plain": [
              "<IPython.core.display.HTML object>"
            ],
            "text/html": [
              "<div id=\"id_9\"> </div>"
            ]
          },
          "metadata": {}
        },
        {
          "output_type": "display_data",
          "data": {
            "text/plain": [
              "<IPython.core.display.HTML object>"
            ],
            "text/html": [
              "<div id=\"id_10\"> </div>"
            ]
          },
          "metadata": {}
        },
        {
          "output_type": "display_data",
          "data": {
            "text/plain": [
              "<IPython.core.display.HTML object>"
            ],
            "text/html": [
              "<div id=\"id_11\"> </div>"
            ]
          },
          "metadata": {}
        },
        {
          "output_type": "display_data",
          "data": {
            "text/plain": [
              "<IPython.core.display.HTML object>"
            ],
            "text/html": [
              "<div id=\"id_12\"> </div>"
            ]
          },
          "metadata": {}
        }
      ]
    },
    {
      "cell_type": "code",
      "source": [
        ""
      ],
      "metadata": {
        "id": "S9ZDCV9Tmmb-"
      },
      "execution_count": null,
      "outputs": []
    }
  ]
}